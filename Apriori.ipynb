{
 "cells": [
  {
   "cell_type": "code",
   "execution_count": 10,
   "id": "16ca3dba",
   "metadata": {},
   "outputs": [
    {
     "data": {
      "text/html": [
       "<div>\n",
       "<style scoped>\n",
       "    .dataframe tbody tr th:only-of-type {\n",
       "        vertical-align: middle;\n",
       "    }\n",
       "\n",
       "    .dataframe tbody tr th {\n",
       "        vertical-align: top;\n",
       "    }\n",
       "\n",
       "    .dataframe thead th {\n",
       "        text-align: right;\n",
       "    }\n",
       "</style>\n",
       "<table border=\"1\" class=\"dataframe\">\n",
       "  <thead>\n",
       "    <tr style=\"text-align: right;\">\n",
       "      <th></th>\n",
       "      <th>Member_number</th>\n",
       "      <th>Date</th>\n",
       "      <th>itemDescription</th>\n",
       "    </tr>\n",
       "  </thead>\n",
       "  <tbody>\n",
       "    <tr>\n",
       "      <th>0</th>\n",
       "      <td>1808</td>\n",
       "      <td>21-07-2015</td>\n",
       "      <td>tropical fruit</td>\n",
       "    </tr>\n",
       "    <tr>\n",
       "      <th>1</th>\n",
       "      <td>2552</td>\n",
       "      <td>05-01-2015</td>\n",
       "      <td>whole milk</td>\n",
       "    </tr>\n",
       "    <tr>\n",
       "      <th>2</th>\n",
       "      <td>2300</td>\n",
       "      <td>19-09-2015</td>\n",
       "      <td>pip fruit</td>\n",
       "    </tr>\n",
       "    <tr>\n",
       "      <th>3</th>\n",
       "      <td>1187</td>\n",
       "      <td>12-12-2015</td>\n",
       "      <td>other vegetables</td>\n",
       "    </tr>\n",
       "    <tr>\n",
       "      <th>4</th>\n",
       "      <td>3037</td>\n",
       "      <td>01-02-2015</td>\n",
       "      <td>whole milk</td>\n",
       "    </tr>\n",
       "  </tbody>\n",
       "</table>\n",
       "</div>"
      ],
      "text/plain": [
       "   Member_number        Date   itemDescription\n",
       "0           1808  21-07-2015    tropical fruit\n",
       "1           2552  05-01-2015        whole milk\n",
       "2           2300  19-09-2015         pip fruit\n",
       "3           1187  12-12-2015  other vegetables\n",
       "4           3037  01-02-2015        whole milk"
      ]
     },
     "execution_count": 10,
     "metadata": {},
     "output_type": "execute_result"
    }
   ],
   "source": [
    "import pandas as pd\n",
    "import numpy as np\n",
    "\n",
    "file_path = 'C:/Users/Maks/Desktop/Groceries_dataset.csv'\n",
    "dataset= df= pd.read_csv(file_path)\n",
    "df.head()"
   ]
  },
  {
   "cell_type": "code",
   "execution_count": 11,
   "id": "726321dc",
   "metadata": {},
   "outputs": [
    {
     "data": {
      "text/plain": [
       "(38765, 3)"
      ]
     },
     "execution_count": 11,
     "metadata": {},
     "output_type": "execute_result"
    }
   ],
   "source": [
    "df.shape"
   ]
  },
  {
   "cell_type": "code",
   "execution_count": 12,
   "id": "54df2d2c",
   "metadata": {},
   "outputs": [
    {
     "data": {
      "text/html": [
       "<div>\n",
       "<style scoped>\n",
       "    .dataframe tbody tr th:only-of-type {\n",
       "        vertical-align: middle;\n",
       "    }\n",
       "\n",
       "    .dataframe tbody tr th {\n",
       "        vertical-align: top;\n",
       "    }\n",
       "\n",
       "    .dataframe thead th {\n",
       "        text-align: right;\n",
       "    }\n",
       "</style>\n",
       "<table border=\"1\" class=\"dataframe\">\n",
       "  <thead>\n",
       "    <tr style=\"text-align: right;\">\n",
       "      <th></th>\n",
       "      <th>Member_number</th>\n",
       "      <th>Date</th>\n",
       "      <th>itemDescription</th>\n",
       "    </tr>\n",
       "  </thead>\n",
       "  <tbody>\n",
       "    <tr>\n",
       "      <th>0</th>\n",
       "      <td>1000</td>\n",
       "      <td>15-03-2015</td>\n",
       "      <td>[sausage, whole milk, semi-finished bread, yog...</td>\n",
       "    </tr>\n",
       "    <tr>\n",
       "      <th>1</th>\n",
       "      <td>1000</td>\n",
       "      <td>24-06-2014</td>\n",
       "      <td>[whole milk, pastry, salty snack]</td>\n",
       "    </tr>\n",
       "    <tr>\n",
       "      <th>2</th>\n",
       "      <td>1000</td>\n",
       "      <td>24-07-2015</td>\n",
       "      <td>[canned beer, misc. beverages]</td>\n",
       "    </tr>\n",
       "    <tr>\n",
       "      <th>3</th>\n",
       "      <td>1000</td>\n",
       "      <td>25-11-2015</td>\n",
       "      <td>[sausage, hygiene articles]</td>\n",
       "    </tr>\n",
       "    <tr>\n",
       "      <th>4</th>\n",
       "      <td>1000</td>\n",
       "      <td>27-05-2015</td>\n",
       "      <td>[soda, pickled vegetables]</td>\n",
       "    </tr>\n",
       "    <tr>\n",
       "      <th>...</th>\n",
       "      <td>...</td>\n",
       "      <td>...</td>\n",
       "      <td>...</td>\n",
       "    </tr>\n",
       "    <tr>\n",
       "      <th>14958</th>\n",
       "      <td>4999</td>\n",
       "      <td>24-01-2015</td>\n",
       "      <td>[tropical fruit, berries, other vegetables, yo...</td>\n",
       "    </tr>\n",
       "    <tr>\n",
       "      <th>14959</th>\n",
       "      <td>4999</td>\n",
       "      <td>26-12-2015</td>\n",
       "      <td>[bottled water, herbs]</td>\n",
       "    </tr>\n",
       "    <tr>\n",
       "      <th>14960</th>\n",
       "      <td>5000</td>\n",
       "      <td>09-03-2014</td>\n",
       "      <td>[fruit/vegetable juice, onions]</td>\n",
       "    </tr>\n",
       "    <tr>\n",
       "      <th>14961</th>\n",
       "      <td>5000</td>\n",
       "      <td>10-02-2015</td>\n",
       "      <td>[soda, root vegetables, semi-finished bread]</td>\n",
       "    </tr>\n",
       "    <tr>\n",
       "      <th>14962</th>\n",
       "      <td>5000</td>\n",
       "      <td>16-11-2014</td>\n",
       "      <td>[bottled beer, other vegetables]</td>\n",
       "    </tr>\n",
       "  </tbody>\n",
       "</table>\n",
       "<p>14963 rows × 3 columns</p>\n",
       "</div>"
      ],
      "text/plain": [
       "       Member_number        Date  \\\n",
       "0               1000  15-03-2015   \n",
       "1               1000  24-06-2014   \n",
       "2               1000  24-07-2015   \n",
       "3               1000  25-11-2015   \n",
       "4               1000  27-05-2015   \n",
       "...              ...         ...   \n",
       "14958           4999  24-01-2015   \n",
       "14959           4999  26-12-2015   \n",
       "14960           5000  09-03-2014   \n",
       "14961           5000  10-02-2015   \n",
       "14962           5000  16-11-2014   \n",
       "\n",
       "                                         itemDescription  \n",
       "0      [sausage, whole milk, semi-finished bread, yog...  \n",
       "1                      [whole milk, pastry, salty snack]  \n",
       "2                         [canned beer, misc. beverages]  \n",
       "3                            [sausage, hygiene articles]  \n",
       "4                             [soda, pickled vegetables]  \n",
       "...                                                  ...  \n",
       "14958  [tropical fruit, berries, other vegetables, yo...  \n",
       "14959                             [bottled water, herbs]  \n",
       "14960                    [fruit/vegetable juice, onions]  \n",
       "14961       [soda, root vegetables, semi-finished bread]  \n",
       "14962                   [bottled beer, other vegetables]  \n",
       "\n",
       "[14963 rows x 3 columns]"
      ]
     },
     "execution_count": 12,
     "metadata": {},
     "output_type": "execute_result"
    }
   ],
   "source": [
    "transactions = df.groupby(['Member_number', 'Date'])['itemDescription'].apply(list).reset_index()\n",
    "transactions\n"
   ]
  },
  {
   "cell_type": "code",
   "execution_count": 13,
   "id": "9a3751a5",
   "metadata": {},
   "outputs": [
    {
     "data": {
      "text/plain": [
       "itemDescription\n",
       "whole milk          16.721246\n",
       "other vegetables    12.684622\n",
       "rolls/buns          11.468288\n",
       "soda                10.118292\n",
       "yogurt               8.915324\n",
       "Name: count, dtype: float64"
      ]
     },
     "execution_count": 13,
     "metadata": {},
     "output_type": "execute_result"
    }
   ],
   "source": [
    "support = (df['itemDescription'].value_counts() / 14963 * 100)\n",
    "support.head()"
   ]
  },
  {
   "cell_type": "code",
   "execution_count": 5,
   "id": "464b136c",
   "metadata": {},
   "outputs": [
    {
     "name": "stdout",
     "output_type": "stream",
     "text": [
      "Requirement already satisfied: apyori in c:\\users\\maks\\anaconda3\\lib\\site-packages (1.1.2)\n"
     ]
    }
   ],
   "source": [
    "!pip install apyori"
   ]
  },
  {
   "cell_type": "code",
   "execution_count": 17,
   "id": "981f11cc",
   "metadata": {},
   "outputs": [
    {
     "data": {
      "image/png": "[encoded data removed]",
      "text/plain": [
       "<Figure size 1500x500 with 1 Axes>"
      ]
     },
     "metadata": {},
     "output_type": "display_data"
    }
   ],
   "source": [
    "plt.figure(figsize = (15,5))\n",
    "bars = plt.bar(x = np.arange(len(support.head(10))), height = (support).head(10))\n",
    "plt.bar_label(bars, fontsize=12, color='cyan', fmt = '%2.1f%%', label_type = 'center')\n",
    "plt.xticks(ticks = np.arange(len(support.head(10))), labels = support.index[:10])\n",
    "\n",
    "plt.title('Top 10 Products by Support')\n",
    "plt.ylabel('Support')\n",
    "plt.xlabel('Product Name')\n",
    "plt.show()"
   ]
  },
  {
   "cell_type": "code",
   "execution_count": 20,
   "id": "21304b30",
   "metadata": {},
   "outputs": [
    {
     "data": {
      "text/plain": [
       "[['sausage', 'whole milk', 'semi-finished bread', 'yogurt'],\n",
       " ['whole milk', 'pastry', 'salty snack'],\n",
       " ['canned beer', 'misc. beverages'],\n",
       " ['sausage', 'hygiene articles'],\n",
       " ['soda', 'pickled vegetables'],\n",
       " ['frankfurter', 'curd'],\n",
       " ['sausage', 'whole milk', 'rolls/buns'],\n",
       " ['whole milk', 'soda'],\n",
       " ['beef', 'white bread'],\n",
       " ['frankfurter', 'soda', 'whipped/sour cream']]"
      ]
     },
     "execution_count": 20,
     "metadata": {},
     "output_type": "execute_result"
    }
   ],
   "source": [
    "import matplotlib.pyplot as plt\n",
    "from apyori import apriori\n",
    "list_transactions = transactions['itemDescription'].tolist()\n",
    "list_transactions[:10]\n",
    "\n"
   ]
  },
  {
   "cell_type": "code",
   "execution_count": 35,
   "id": "4e0109cc",
   "metadata": {},
   "outputs": [],
   "source": [
    "rules = apriori(list_transactions, min_support=0.001, min_confidence=0.01, min_lift=1.2, max_length=4)\n",
    "results = list(rules)\n"
   ]
  },
  {
   "cell_type": "code",
   "execution_count": 36,
   "id": "b2f3a98b",
   "metadata": {},
   "outputs": [
    {
     "name": "stdout",
     "output_type": "stream",
     "text": [
      "Rule 1: ['beef', 'brown bread'], Support: 0.0015, Confidence: 0.0453, Lift: 1.2033\n",
      "Rule 2: ['beef', 'frozen vegetables'], Support: 0.0013, Confidence: 0.0374, Lift: 1.3357\n",
      "Rule 3: ['beef', 'margarine'], Support: 0.0014, Confidence: 0.0413, Lift: 1.2833\n",
      "Rule 4: ['newspapers', 'beef'], Support: 0.0017, Confidence: 0.0492, Lift: 1.2652\n",
      "Rule 5: ['beverages', 'sausage'], Support: 0.0015, Confidence: 0.0927, Lift: 1.5368\n",
      "Rule 6: ['bottled beer', 'sausage'], Support: 0.0033, Confidence: 0.0737, Lift: 1.2220\n",
      "Rule 7: ['sugar', 'bottled water'], Support: 0.0015, Confidence: 0.0242, Lift: 1.3681\n",
      "Rule 8: ['canned beer', 'brown bread'], Support: 0.0024, Confidence: 0.0639, Lift: 1.3629\n",
      "Rule 9: ['butter', 'margarine'], Support: 0.0014, Confidence: 0.0398, Lift: 1.2370\n",
      "Rule 10: ['citrus fruit', 'candy'], Support: 0.0010, Confidence: 0.0698, Lift: 1.3131\n"
     ]
    }
   ],
   "source": [
    "def print_top_rules(rules, n=10):\n",
    "    for i, rule in enumerate(results[:n]):\n",
    "        items = [item for item in rule.items]\n",
    "        support = rule.support\n",
    "        confidence = rule.ordered_statistics[0].confidence\n",
    "        lift = rule.ordered_statistics[0].lift\n",
    "\n",
    "        print(f\"Rule {i + 1}: {items}, Support: {support:.4f}, Confidence: {confidence:.4f}, Lift: {lift:.4f}\")\n",
    "\n",
    "print_top_rules(results)"
   ]
  },
  {
   "cell_type": "code",
   "execution_count": 37,
   "id": "1fe55d43",
   "metadata": {},
   "outputs": [
    {
     "data": {
      "text/plain": [
       "(array([1.008e+04, 2.698e+03, 1.390e+03, 3.440e+02, 1.750e+02, 8.000e+01,\n",
       "        1.450e+02, 5.000e+01, 0.000e+00, 1.000e+00]),\n",
       " array([ 2. ,  2.9,  3.8,  4.7,  5.6,  6.5,  7.4,  8.3,  9.2, 10.1, 11. ]),\n",
       " <BarContainer object of 10 artists>)"
      ]
     },
     "execution_count": 37,
     "metadata": {},
     "output_type": "execute_result"
    },
    {
     "data": {
      "image/png": "[encoded data removed]",
      "text/plain": [
       "<Figure size 640x480 with 1 Axes>"
      ]
     },
     "metadata": {},
     "output_type": "display_data"
    }
   ],
   "source": [
    "dist = [len(g) for k, g in df.groupby(['Member_number', 'Date'])]\n",
    "plt.hist(dist)"
   ]
  },
  {
   "cell_type": "code",
   "execution_count": null,
   "id": "4366d1ad",
   "metadata": {},
   "outputs": [],
   "source": []
  }
 ],
 "metadata": {
  "kernelspec": {
   "display_name": "Python 3 (ipykernel)",
   "language": "python",
   "name": "python3"
  },
  "language_info": {
   "codemirror_mode": {
    "name": "ipython",
    "version": 3
   },
   "file_extension": ".py",
   "mimetype": "text/x-python",
   "name": "python",
   "nbconvert_exporter": "python",
   "pygments_lexer": "ipython3",
   "version": "3.11.5"
  }
 },
 "nbformat": 4,
 "nbformat_minor": 5
}
